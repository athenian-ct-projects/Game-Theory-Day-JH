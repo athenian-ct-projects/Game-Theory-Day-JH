{
  "nbformat": 4,
  "nbformat_minor": 0,
  "metadata": {
    "colab": {
      "name": "Jonah.ipynb",
      "provenance": [],
      "collapsed_sections": [],
      "include_colab_link": true
    },
    "kernelspec": {
      "name": "python3",
      "display_name": "Python 3"
    }
  },
  "cells": [
    {
      "cell_type": "markdown",
      "metadata": {
        "id": "view-in-github",
        "colab_type": "text"
      },
      "source": [
        "<a href=\"https://colab.research.google.com/github/athenian-ct-projects/Game-Theory-Day-JH/blob/master/Jonah.ipynb\" target=\"_parent\"><img src=\"https://colab.research.google.com/assets/colab-badge.svg\" alt=\"Open In Colab\"/></a>"
      ]
    },
    {
      "cell_type": "markdown",
      "metadata": {
        "id": "GCGRpdWabmFZ",
        "colab_type": "text"
      },
      "source": [
        "#Below is the code for a machine that uses optimal strategy for winning at Nim."
      ]
    },
    {
      "cell_type": "code",
      "metadata": {
        "id": "mVVGUJJ7ZxmS",
        "colab_type": "code",
        "outputId": "bdcad816-fbe1-460b-c508-25bece23a5a7",
        "colab": {
          "base_uri": "https://localhost:8080/",
          "height": 579
        }
      },
      "source": [
        "pilesize = int(input('how big do you want your pile to be? (please do not choose a negative number or 0)'))\n",
        "#Throughout the program, pilesize denotes the current size of the pile.\n",
        "print('The pile has size '+str(pilesize))\n",
        "last1 = 0\n",
        "#Last1 will be our way to remember who took the last turn. This is important when deciding who won and who lost.\n",
        "while pilesize > 0:\n",
        "  if pilesize % 4 == 0:\n",
        "    pilesize = pilesize - 3\n",
        "    if pilesize > 0:\n",
        "      print('I took 3 and the pile now has size '+str(pilesize))\n",
        "    last1 = 1\n",
        "  elif pilesize % 4 == 1:\n",
        "    pilesize = pilesize - 3\n",
        "    if pilesize > 0:\n",
        "      print('I took 3 and the pile now has size '+str(pilesize))\n",
        "    last1 = 1\n",
        "  elif pilesize % 4 == 2:\n",
        "    pilesize = pilesize - 1\n",
        "    if pilesize > 0:\n",
        "      print('I took 1 and the pile now has size '+str(pilesize))\n",
        "    last1 = 1\n",
        "  elif pilesize % 4 == 3:\n",
        "    pilesize = pilesize - 2\n",
        "    if pilesize > 0:\n",
        "      print('I took 2 and the pile now has size '+str(pilesize))\n",
        "    last1 = 1\n",
        "#Everything above is the optimization part of the program. It makes sure that whenever \n",
        "#possible, the computer takes the right amount to get the player to a P value.\n",
        "  if pilesize > 0:\n",
        "    num = int(input('how much do you want to take? (please choose 1, 2 or 3)'))\n",
        "    pilesize = pilesize - num\n",
        "    last1 = 2\n",
        "    if pilesize > 0:\n",
        "      print('You took '+ str(num) +' and the pile now has size '+str(pilesize))\n",
        "#above here is simply what allows the player to take certain amounts. I could make it so that \n",
        "#they can only take a maximum of 3, but \n",
        "\n",
        "if last1 == 1:\n",
        "  print('I take 1 and the pile now has size 0')\n",
        "  print('Well, you beat me. Good job.')\n",
        "elif last1 == 2:\n",
        "  print('You took everything remaining and the pile now has size 0')\n",
        "  print('I won. Hooray!')\n",
        "else:\n",
        "  print('Please rerun the cell and choose a non-negative number.')\n",
        "#The above checks to see who took last, and therefore who won."
      ],
      "execution_count": 0,
      "outputs": [
        {
          "output_type": "stream",
          "text": [
            "how big do you want your pile to be? (please do not choose a non-positive number)10\n",
            "The pile has size 10\n",
            "I took 1 and the pile now has size 9\n"
          ],
          "name": "stdout"
        },
        {
          "output_type": "error",
          "ename": "KeyboardInterrupt",
          "evalue": "ignored",
          "traceback": [
            "\u001b[0;31m---------------------------------------------------------------------------\u001b[0m",
            "\u001b[0;31mKeyboardInterrupt\u001b[0m                         Traceback (most recent call last)",
            "\u001b[0;32m/usr/local/lib/python3.6/dist-packages/ipykernel/kernelbase.py\u001b[0m in \u001b[0;36m_input_request\u001b[0;34m(self, prompt, ident, parent, password)\u001b[0m\n\u001b[1;32m    729\u001b[0m             \u001b[0;32mtry\u001b[0m\u001b[0;34m:\u001b[0m\u001b[0;34m\u001b[0m\u001b[0;34m\u001b[0m\u001b[0m\n\u001b[0;32m--> 730\u001b[0;31m                 \u001b[0mident\u001b[0m\u001b[0;34m,\u001b[0m \u001b[0mreply\u001b[0m \u001b[0;34m=\u001b[0m \u001b[0mself\u001b[0m\u001b[0;34m.\u001b[0m\u001b[0msession\u001b[0m\u001b[0;34m.\u001b[0m\u001b[0mrecv\u001b[0m\u001b[0;34m(\u001b[0m\u001b[0mself\u001b[0m\u001b[0;34m.\u001b[0m\u001b[0mstdin_socket\u001b[0m\u001b[0;34m,\u001b[0m \u001b[0;36m0\u001b[0m\u001b[0;34m)\u001b[0m\u001b[0;34m\u001b[0m\u001b[0;34m\u001b[0m\u001b[0m\n\u001b[0m\u001b[1;32m    731\u001b[0m             \u001b[0;32mexcept\u001b[0m \u001b[0mException\u001b[0m\u001b[0;34m:\u001b[0m\u001b[0;34m\u001b[0m\u001b[0;34m\u001b[0m\u001b[0m\n",
            "\u001b[0;32m/usr/local/lib/python3.6/dist-packages/jupyter_client/session.py\u001b[0m in \u001b[0;36mrecv\u001b[0;34m(self, socket, mode, content, copy)\u001b[0m\n\u001b[1;32m    802\u001b[0m         \u001b[0;32mtry\u001b[0m\u001b[0;34m:\u001b[0m\u001b[0;34m\u001b[0m\u001b[0;34m\u001b[0m\u001b[0m\n\u001b[0;32m--> 803\u001b[0;31m             \u001b[0mmsg_list\u001b[0m \u001b[0;34m=\u001b[0m \u001b[0msocket\u001b[0m\u001b[0;34m.\u001b[0m\u001b[0mrecv_multipart\u001b[0m\u001b[0;34m(\u001b[0m\u001b[0mmode\u001b[0m\u001b[0;34m,\u001b[0m \u001b[0mcopy\u001b[0m\u001b[0;34m=\u001b[0m\u001b[0mcopy\u001b[0m\u001b[0;34m)\u001b[0m\u001b[0;34m\u001b[0m\u001b[0;34m\u001b[0m\u001b[0m\n\u001b[0m\u001b[1;32m    804\u001b[0m         \u001b[0;32mexcept\u001b[0m \u001b[0mzmq\u001b[0m\u001b[0;34m.\u001b[0m\u001b[0mZMQError\u001b[0m \u001b[0;32mas\u001b[0m \u001b[0me\u001b[0m\u001b[0;34m:\u001b[0m\u001b[0;34m\u001b[0m\u001b[0;34m\u001b[0m\u001b[0m\n",
            "\u001b[0;32m/usr/local/lib/python3.6/dist-packages/zmq/sugar/socket.py\u001b[0m in \u001b[0;36mrecv_multipart\u001b[0;34m(self, flags, copy, track)\u001b[0m\n\u001b[1;32m    465\u001b[0m         \"\"\"\n\u001b[0;32m--> 466\u001b[0;31m         \u001b[0mparts\u001b[0m \u001b[0;34m=\u001b[0m \u001b[0;34m[\u001b[0m\u001b[0mself\u001b[0m\u001b[0;34m.\u001b[0m\u001b[0mrecv\u001b[0m\u001b[0;34m(\u001b[0m\u001b[0mflags\u001b[0m\u001b[0;34m,\u001b[0m \u001b[0mcopy\u001b[0m\u001b[0;34m=\u001b[0m\u001b[0mcopy\u001b[0m\u001b[0;34m,\u001b[0m \u001b[0mtrack\u001b[0m\u001b[0;34m=\u001b[0m\u001b[0mtrack\u001b[0m\u001b[0;34m)\u001b[0m\u001b[0;34m]\u001b[0m\u001b[0;34m\u001b[0m\u001b[0;34m\u001b[0m\u001b[0m\n\u001b[0m\u001b[1;32m    467\u001b[0m         \u001b[0;31m# have first part already, only loop while more to receive\u001b[0m\u001b[0;34m\u001b[0m\u001b[0;34m\u001b[0m\u001b[0;34m\u001b[0m\u001b[0m\n",
            "\u001b[0;32mzmq/backend/cython/socket.pyx\u001b[0m in \u001b[0;36mzmq.backend.cython.socket.Socket.recv\u001b[0;34m()\u001b[0m\n",
            "\u001b[0;32mzmq/backend/cython/socket.pyx\u001b[0m in \u001b[0;36mzmq.backend.cython.socket.Socket.recv\u001b[0;34m()\u001b[0m\n",
            "\u001b[0;32mzmq/backend/cython/socket.pyx\u001b[0m in \u001b[0;36mzmq.backend.cython.socket._recv_copy\u001b[0;34m()\u001b[0m\n",
            "\u001b[0;32m/usr/local/lib/python3.6/dist-packages/zmq/backend/cython/checkrc.pxd\u001b[0m in \u001b[0;36mzmq.backend.cython.checkrc._check_rc\u001b[0;34m()\u001b[0m\n",
            "\u001b[0;31mKeyboardInterrupt\u001b[0m: ",
            "\nDuring handling of the above exception, another exception occurred:\n",
            "\u001b[0;31mKeyboardInterrupt\u001b[0m                         Traceback (most recent call last)",
            "\u001b[0;32m<ipython-input-1-dab53293b117>\u001b[0m in \u001b[0;36m<module>\u001b[0;34m()\u001b[0m\n\u001b[1;32m     28\u001b[0m \u001b[0;31m#possible, the computer takes the right amount to get the player to a P value.\u001b[0m\u001b[0;34m\u001b[0m\u001b[0;34m\u001b[0m\u001b[0;34m\u001b[0m\u001b[0m\n\u001b[1;32m     29\u001b[0m   \u001b[0;32mif\u001b[0m \u001b[0mpilesize\u001b[0m \u001b[0;34m>\u001b[0m \u001b[0;36m0\u001b[0m\u001b[0;34m:\u001b[0m\u001b[0;34m\u001b[0m\u001b[0;34m\u001b[0m\u001b[0m\n\u001b[0;32m---> 30\u001b[0;31m     \u001b[0mnum\u001b[0m \u001b[0;34m=\u001b[0m \u001b[0mint\u001b[0m\u001b[0;34m(\u001b[0m\u001b[0minput\u001b[0m\u001b[0;34m(\u001b[0m\u001b[0;34m'how much do you want to take? (please choose 1, 2 or 3)'\u001b[0m\u001b[0;34m)\u001b[0m\u001b[0;34m)\u001b[0m\u001b[0;34m\u001b[0m\u001b[0;34m\u001b[0m\u001b[0m\n\u001b[0m\u001b[1;32m     31\u001b[0m     \u001b[0mpilesize\u001b[0m \u001b[0;34m=\u001b[0m \u001b[0mpilesize\u001b[0m \u001b[0;34m-\u001b[0m \u001b[0mnum\u001b[0m\u001b[0;34m\u001b[0m\u001b[0;34m\u001b[0m\u001b[0m\n\u001b[1;32m     32\u001b[0m     \u001b[0mlast1\u001b[0m \u001b[0;34m=\u001b[0m \u001b[0;36m2\u001b[0m\u001b[0;34m\u001b[0m\u001b[0;34m\u001b[0m\u001b[0m\n",
            "\u001b[0;32m/usr/local/lib/python3.6/dist-packages/ipykernel/kernelbase.py\u001b[0m in \u001b[0;36mraw_input\u001b[0;34m(self, prompt)\u001b[0m\n\u001b[1;32m    703\u001b[0m             \u001b[0mself\u001b[0m\u001b[0;34m.\u001b[0m\u001b[0m_parent_ident\u001b[0m\u001b[0;34m,\u001b[0m\u001b[0;34m\u001b[0m\u001b[0;34m\u001b[0m\u001b[0m\n\u001b[1;32m    704\u001b[0m             \u001b[0mself\u001b[0m\u001b[0;34m.\u001b[0m\u001b[0m_parent_header\u001b[0m\u001b[0;34m,\u001b[0m\u001b[0;34m\u001b[0m\u001b[0;34m\u001b[0m\u001b[0m\n\u001b[0;32m--> 705\u001b[0;31m             \u001b[0mpassword\u001b[0m\u001b[0;34m=\u001b[0m\u001b[0;32mFalse\u001b[0m\u001b[0;34m,\u001b[0m\u001b[0;34m\u001b[0m\u001b[0;34m\u001b[0m\u001b[0m\n\u001b[0m\u001b[1;32m    706\u001b[0m         )\n\u001b[1;32m    707\u001b[0m \u001b[0;34m\u001b[0m\u001b[0m\n",
            "\u001b[0;32m/usr/local/lib/python3.6/dist-packages/ipykernel/kernelbase.py\u001b[0m in \u001b[0;36m_input_request\u001b[0;34m(self, prompt, ident, parent, password)\u001b[0m\n\u001b[1;32m    733\u001b[0m             \u001b[0;32mexcept\u001b[0m \u001b[0mKeyboardInterrupt\u001b[0m\u001b[0;34m:\u001b[0m\u001b[0;34m\u001b[0m\u001b[0;34m\u001b[0m\u001b[0m\n\u001b[1;32m    734\u001b[0m                 \u001b[0;31m# re-raise KeyboardInterrupt, to truncate traceback\u001b[0m\u001b[0;34m\u001b[0m\u001b[0;34m\u001b[0m\u001b[0;34m\u001b[0m\u001b[0m\n\u001b[0;32m--> 735\u001b[0;31m                 \u001b[0;32mraise\u001b[0m \u001b[0mKeyboardInterrupt\u001b[0m\u001b[0;34m\u001b[0m\u001b[0;34m\u001b[0m\u001b[0m\n\u001b[0m\u001b[1;32m    736\u001b[0m             \u001b[0;32melse\u001b[0m\u001b[0;34m:\u001b[0m\u001b[0;34m\u001b[0m\u001b[0;34m\u001b[0m\u001b[0m\n\u001b[1;32m    737\u001b[0m                 \u001b[0;32mbreak\u001b[0m\u001b[0;34m\u001b[0m\u001b[0;34m\u001b[0m\u001b[0m\n",
            "\u001b[0;31mKeyboardInterrupt\u001b[0m: "
          ]
        }
      ]
    },
    {
      "cell_type": "markdown",
      "metadata": {
        "id": "DvsM88V7eTwk",
        "colab_type": "text"
      },
      "source": [
        "#Now to the Prisoner's Dilemma."
      ]
    },
    {
      "cell_type": "code",
      "metadata": {
        "id": "4vtRWG6Fn_7H",
        "colab_type": "code",
        "outputId": "248efc8f-93a7-47f3-b74f-5155303f5273",
        "colab": {
          "base_uri": "https://localhost:8080/",
          "height": 119
        }
      },
      "source": [
        "#This function is what allows us to pit strategies against each other.\n",
        "#We have access to four strategies: IETT, IGTT, C, and D.\n",
        "#IETT does whatever the opponent did last, starting with defecting.\n",
        "#IGTT is the same as IETT, except they start with staying loyal.\n",
        "#C always stays loyal and D always defects.\n",
        "#round(x,y) will display the results of a matchup between strategies x and y.\n",
        "\n",
        "def round(x,y):\n",
        "  \n",
        "  #These are starting values for us to store results in.\n",
        "  list1 = []\n",
        "  list2 = []\n",
        "  a = 0\n",
        "  b = 0\n",
        "  \n",
        "  \n",
        "  #This confirms which strategy gets played when.\n",
        "  if y == 'IGTT' or y == 'IETT':\n",
        "    mb = 0\n",
        "    nb = 1\n",
        "  elif y == 'C':\n",
        "    mb = 0\n",
        "    nb = 0\n",
        "  elif y == 'D':\n",
        "    mb = 1\n",
        "    nb = 1\n",
        "    \n",
        "  if x == 'IGTT' or x == 'IETT':\n",
        "    ma = 0\n",
        "    na = 1\n",
        "  elif x == 'C':\n",
        "    ma = 0\n",
        "    na = 0\n",
        "  elif x == 'D':\n",
        "    ma = 1\n",
        "    na = 1\n",
        "  \n",
        "  \n",
        "  if y == 'IGTT':\n",
        "    lasta = 0\n",
        "  else:\n",
        "    lasta = 1\n",
        "  if x == 'IGTT':\n",
        "    lastb = 0\n",
        "  else:\n",
        "    lastb = 1\n",
        "    \n",
        "    \n",
        "  #This is the system that runs each simulation \n",
        "  for i in range(100):\n",
        "    if lastb == 0:\n",
        "      a = ma\n",
        "    else:\n",
        "      a = na\n",
        "    if lasta == 0:\n",
        "      b = mb\n",
        "    else:\n",
        "      b = nb\n",
        "    lasta = a\n",
        "    lastb = b\n",
        "    if a == b:\n",
        "      if a == 1:\n",
        "        #print(\"They both got 10 years.\")\n",
        "        list1.append(10)\n",
        "        list2.append(10)\n",
        "      else:\n",
        "        #print(\"They both got 3 years.\")\n",
        "        list1.append(3)\n",
        "        list2.append(3)\n",
        "    else:\n",
        "      if a == 1:\n",
        "        #print(\"A got 1, B got 15.\")\n",
        "        list1.append(1)\n",
        "        list2.append(15)\n",
        "      else:\n",
        "        #print(\"A got 15, B got 1.\")\n",
        "        list1.append(15)\n",
        "        list2.append(1)\n",
        "      \n",
        "  print(x+\" had a total of \" + str(sum(list1)))\n",
        "  print(y+\" had a total of \" + str(sum(list2)))\n",
        "  if sum(list1) > sum(list2):\n",
        "    print(y+\" won\")\n",
        "  elif sum(list1) < sum(list2):\n",
        "    print(x+\" won\")\n",
        "  else:\n",
        "    print(\"Tie\")\n",
        "    \n",
        "solved = 0\n",
        "while solved != 1:\n",
        "  first = input('1')\n",
        "  second = input('2')\n",
        "  round(first,second);\n",
        "  co = input(\"continue? (y/n)\")\n",
        "  if co == \"n\":\n",
        "    solved = 1"
      ],
      "execution_count": 0,
      "outputs": [
        {
          "output_type": "stream",
          "text": [
            "1IETT\n",
            "2IETT\n",
            "IETT had a total of 1000\n",
            "IETT had a total of 1000\n",
            "Tie\n",
            "continue? (y/n)n\n"
          ],
          "name": "stdout"
        }
      ]
    },
    {
      "cell_type": "markdown",
      "metadata": {
        "id": "rqEq1VjDx8eW",
        "colab_type": "text"
      },
      "source": [
        "#And finally, the Pirate Game."
      ]
    },
    {
      "cell_type": "code",
      "metadata": {
        "id": "NLPI1XAG-RCf",
        "colab_type": "code",
        "outputId": "155a4590-8333-4cb4-f059-9617c4f00daf",
        "colab": {
          "base_uri": "https://localhost:8080/",
          "height": 238
        }
      },
      "source": [
        "print('There are ten pirates. You are the first one.')\n",
        "print('There are 100 coins.')\n",
        "n = 10\n",
        "k = 100\n",
        "pmoney = []\n",
        "votes = []\n",
        "\n",
        "#Above: n is the number of pirates, k is the number of coins. pmoney keeps track of \n",
        "#who has how much money and votes keeps track of what each pirate votes for.\n",
        "\n",
        "for pirate in range(10):\n",
        "  if pirate == 0:\n",
        "    inc = int(input('How many coins do you want to give to yourself? (please do not total to above 100 coins)  '))\n",
        "  else:\n",
        "    inc = int(input('How many coins do you want to give to pirate '+str(pirate+1)+'?   '))\n",
        "  pmoney.append(inc)\n",
        "  \n",
        "#Above: The user (the first pirate) proposes how to distribute the money.\n",
        "  \n",
        "for v in pmoney:\n",
        "  if pmoney.index(v) == 0:\n",
        "    votes.append(1)\n",
        "  elif pmoney.index(v) == 1:\n",
        "    if v < (k-(n/2))+1:\n",
        "      votes.append(0)\n",
        "    else:\n",
        "      votes.append(1)\n",
        "  else:\n",
        "    if v > 0:\n",
        "      votes.append(1)\n",
        "    else:\n",
        "      votes.append(0)\n",
        "      \n",
        "#Above: Each pirate checks to see if it's worth it for them to vote yea or nay \n",
        "\n",
        "yes = 0\n",
        "no = 0\n",
        "for vote in votes:\n",
        "  if vote == 1:\n",
        "    yes += 1\n",
        "  else:\n",
        "    no +=1\n",
        "    \n",
        "#Above: The porgram tallies the votes.\n",
        "\n",
        "if yes < no:\n",
        "  print('The council has decided to throw you into the ocean and you lose everything.')\n",
        "else:\n",
        "  print('You keep all '+str(pmoney[0])+' coins you got.')\n",
        "  \n",
        "#Above: The program displays the results."
      ],
      "execution_count": 0,
      "outputs": [
        {
          "output_type": "stream",
          "text": [
            "There are ten pirates. You are the first one.\n",
            "There are 100 coins.\n",
            "How many coins do you want to give to yourself? (please do not total to above 100 coins)  95\n",
            "How many coins do you want to give to pirate 2?   0\n",
            "How many coins do you want to give to pirate 3?   0\n",
            "How many coins do you want to give to pirate 4?   1\n",
            "How many coins do you want to give to pirate 5?   1\n",
            "How many coins do you want to give to pirate 6?   0\n",
            "How many coins do you want to give to pirate 7?   1\n",
            "How many coins do you want to give to pirate 8?   0\n",
            "How many coins do you want to give to pirate 9?   1\n",
            "How many coins do you want to give to pirate 10?   0\n",
            "You keep all 95 coins you got.\n"
          ],
          "name": "stdout"
        }
      ]
    },
    {
      "cell_type": "code",
      "metadata": {
        "id": "yYL6LW4CJsvT",
        "colab_type": "code",
        "colab": {}
      },
      "source": [
        ""
      ],
      "execution_count": 0,
      "outputs": []
    }
  ]
}